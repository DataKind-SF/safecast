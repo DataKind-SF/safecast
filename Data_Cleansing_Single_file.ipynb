{
 "cells": [
  {
   "cell_type": "markdown",
   "metadata": {},
   "source": [
    "# Data Cleaning & Locating Multivalued and Duplicate records (single csv file)\n",
    "### Saksham Gakhar, DA - DKSF\n",
    "\n",
    "Keep changing the input csv file and look for duplicate and multivalued records, enlist devices that generally misbehave..."
   ]
  },
  {
   "cell_type": "code",
   "execution_count": 1079,
   "metadata": {},
   "outputs": [],
   "source": [
    "import numpy as np \n",
    "import pandas as pd\n",
    "import matplotlib\n",
    "import matplotlib.pyplot as plt\n",
    "from matplotlib import cm\n",
    "from collections import defaultdict\n",
    "import datetime\n",
    "# without mpld3\n",
    "%matplotlib notebook "
   ]
  },
  {
   "cell_type": "code",
   "execution_count": 1080,
   "metadata": {},
   "outputs": [],
   "source": [
    "dates = pd.date_range('2017-09-01','2020-07-01', freq='MS').strftime(\"%Y-%m\").tolist()"
   ]
  },
  {
   "cell_type": "code",
   "execution_count": 1081,
   "metadata": {},
   "outputs": [],
   "source": [
    "dt = dates[0]\n",
    "folder = '2020-07-06-DataKind/'\n",
    "filename = 'output-' + str(dt) + '-01T00_00_00+00_00.csv'"
   ]
  },
  {
   "cell_type": "code",
   "execution_count": 1082,
   "metadata": {},
   "outputs": [],
   "source": [
    "df = pd.read_csv(folder+filename)\n",
    "df.when_captured = pd.to_datetime(df.when_captured)"
   ]
  },
  {
   "cell_type": "markdown",
   "metadata": {},
   "source": [
    "Need to change the format of the Time Stamp for all the measurements in the raw data"
   ]
  },
  {
   "cell_type": "code",
   "execution_count": 1083,
   "metadata": {},
   "outputs": [
    {
     "name": "stdout",
     "output_type": "stream",
     "text": [
      "<class 'pandas.core.frame.DataFrame'>\n",
      "RangeIndex: 64655 entries, 0 to 64654\n",
      "Data columns (total 15 columns):\n",
      " #   Column            Non-Null Count  Dtype              \n",
      "---  ------            --------------  -----              \n",
      " 0   service_uploaded  64655 non-null  datetime64[ns, UTC]\n",
      " 1   when_captured     61839 non-null  datetime64[ns, UTC]\n",
      " 2   device_urn        64655 non-null  object             \n",
      " 3   device_sn         64655 non-null  object             \n",
      " 4   device            64655 non-null  int64              \n",
      " 5   loc_lat           64655 non-null  float64            \n",
      " 6   loc_lon           64655 non-null  float64            \n",
      " 7   env_temp          36580 non-null  float64            \n",
      " 8   env_humid         36580 non-null  float64            \n",
      " 9   pms_pm01_0        36899 non-null  object             \n",
      " 10  pms_pm02_5        36898 non-null  object             \n",
      " 11  pms_pm10_0        36897 non-null  object             \n",
      " 12  lnd_7318c         55230 non-null  float64            \n",
      " 13  lnd_7318u         55231 non-null  float64            \n",
      " 14  bat_voltage       24201 non-null  float64            \n",
      "dtypes: datetime64[ns, UTC](2), float64(7), int64(1), object(5)\n",
      "memory usage: 7.4+ MB\n"
     ]
    }
   ],
   "source": [
    "df.service_uploaded =  df.service_uploaded.apply(lambda x: datetime.datetime.strptime(x, '%b %d, %Y @ %H:%M:%S.%f')\\\n",
    "                                                 .replace(tzinfo=datetime.timezone.utc))\n",
    "df.info()"
   ]
  },
  {
   "cell_type": "code",
   "execution_count": 1084,
   "metadata": {},
   "outputs": [
    {
     "data": {
      "text/html": [
       "<div>\n",
       "<style scoped>\n",
       "    .dataframe tbody tr th:only-of-type {\n",
       "        vertical-align: middle;\n",
       "    }\n",
       "\n",
       "    .dataframe tbody tr th {\n",
       "        vertical-align: top;\n",
       "    }\n",
       "\n",
       "    .dataframe thead th {\n",
       "        text-align: right;\n",
       "    }\n",
       "</style>\n",
       "<table border=\"1\" class=\"dataframe\">\n",
       "  <thead>\n",
       "    <tr style=\"text-align: right;\">\n",
       "      <th></th>\n",
       "      <th>service_uploaded</th>\n",
       "      <th>when_captured</th>\n",
       "      <th>device_urn</th>\n",
       "      <th>device_sn</th>\n",
       "      <th>device</th>\n",
       "      <th>loc_lat</th>\n",
       "      <th>loc_lon</th>\n",
       "      <th>env_temp</th>\n",
       "      <th>env_humid</th>\n",
       "      <th>pms_pm01_0</th>\n",
       "      <th>pms_pm02_5</th>\n",
       "      <th>pms_pm10_0</th>\n",
       "      <th>lnd_7318c</th>\n",
       "      <th>lnd_7318u</th>\n",
       "      <th>bat_voltage</th>\n",
       "    </tr>\n",
       "  </thead>\n",
       "  <tbody>\n",
       "    <tr>\n",
       "      <th>0</th>\n",
       "      <td>2017-09-30 23:58:45+00:00</td>\n",
       "      <td>2017-09-30 23:58:38+00:00</td>\n",
       "      <td>safecast:374304606</td>\n",
       "      <td>Solarcast #30009</td>\n",
       "      <td>374304606</td>\n",
       "      <td>35.746</td>\n",
       "      <td>139.918</td>\n",
       "      <td>39.044</td>\n",
       "      <td>-7.584</td>\n",
       "      <td>NaN</td>\n",
       "      <td>NaN</td>\n",
       "      <td>NaN</td>\n",
       "      <td>32.0</td>\n",
       "      <td>29.0</td>\n",
       "      <td>NaN</td>\n",
       "    </tr>\n",
       "    <tr>\n",
       "      <th>1</th>\n",
       "      <td>2017-09-30 23:58:28+00:00</td>\n",
       "      <td>2017-09-30 23:58:23+00:00</td>\n",
       "      <td>safecast:374304606</td>\n",
       "      <td>Solarcast #30009</td>\n",
       "      <td>374304606</td>\n",
       "      <td>35.746</td>\n",
       "      <td>139.918</td>\n",
       "      <td>NaN</td>\n",
       "      <td>NaN</td>\n",
       "      <td>NaN</td>\n",
       "      <td>NaN</td>\n",
       "      <td>NaN</td>\n",
       "      <td>NaN</td>\n",
       "      <td>NaN</td>\n",
       "      <td>NaN</td>\n",
       "    </tr>\n",
       "    <tr>\n",
       "      <th>2</th>\n",
       "      <td>2017-09-30 23:57:41+00:00</td>\n",
       "      <td>2017-09-30 23:57:30+00:00</td>\n",
       "      <td>safecast:374304606</td>\n",
       "      <td>Solarcast #30009</td>\n",
       "      <td>374304606</td>\n",
       "      <td>35.746</td>\n",
       "      <td>139.918</td>\n",
       "      <td>NaN</td>\n",
       "      <td>NaN</td>\n",
       "      <td>11</td>\n",
       "      <td>14</td>\n",
       "      <td>14</td>\n",
       "      <td>NaN</td>\n",
       "      <td>NaN</td>\n",
       "      <td>NaN</td>\n",
       "    </tr>\n",
       "    <tr>\n",
       "      <th>3</th>\n",
       "      <td>2017-09-30 23:53:51+00:00</td>\n",
       "      <td>2017-09-30 23:53:50+00:00</td>\n",
       "      <td>safecast:3714913954</td>\n",
       "      <td>Solarcast #30027</td>\n",
       "      <td>3714913954</td>\n",
       "      <td>52.102</td>\n",
       "      <td>5.180</td>\n",
       "      <td>NaN</td>\n",
       "      <td>NaN</td>\n",
       "      <td>NaN</td>\n",
       "      <td>NaN</td>\n",
       "      <td>NaN</td>\n",
       "      <td>NaN</td>\n",
       "      <td>NaN</td>\n",
       "      <td>3.795</td>\n",
       "    </tr>\n",
       "    <tr>\n",
       "      <th>4</th>\n",
       "      <td>2017-09-30 23:53:39+00:00</td>\n",
       "      <td>2017-09-30 23:53:35+00:00</td>\n",
       "      <td>safecast:3714913954</td>\n",
       "      <td>Solarcast #30027</td>\n",
       "      <td>3714913954</td>\n",
       "      <td>52.102</td>\n",
       "      <td>5.180</td>\n",
       "      <td>NaN</td>\n",
       "      <td>NaN</td>\n",
       "      <td>NaN</td>\n",
       "      <td>NaN</td>\n",
       "      <td>NaN</td>\n",
       "      <td>NaN</td>\n",
       "      <td>NaN</td>\n",
       "      <td>NaN</td>\n",
       "    </tr>\n",
       "  </tbody>\n",
       "</table>\n",
       "</div>"
      ],
      "text/plain": [
       "           service_uploaded             when_captured           device_urn  \\\n",
       "0 2017-09-30 23:58:45+00:00 2017-09-30 23:58:38+00:00   safecast:374304606   \n",
       "1 2017-09-30 23:58:28+00:00 2017-09-30 23:58:23+00:00   safecast:374304606   \n",
       "2 2017-09-30 23:57:41+00:00 2017-09-30 23:57:30+00:00   safecast:374304606   \n",
       "3 2017-09-30 23:53:51+00:00 2017-09-30 23:53:50+00:00  safecast:3714913954   \n",
       "4 2017-09-30 23:53:39+00:00 2017-09-30 23:53:35+00:00  safecast:3714913954   \n",
       "\n",
       "          device_sn      device  loc_lat  loc_lon  env_temp  env_humid  \\\n",
       "0  Solarcast #30009   374304606   35.746  139.918    39.044     -7.584   \n",
       "1  Solarcast #30009   374304606   35.746  139.918       NaN        NaN   \n",
       "2  Solarcast #30009   374304606   35.746  139.918       NaN        NaN   \n",
       "3  Solarcast #30027  3714913954   52.102    5.180       NaN        NaN   \n",
       "4  Solarcast #30027  3714913954   52.102    5.180       NaN        NaN   \n",
       "\n",
       "  pms_pm01_0 pms_pm02_5 pms_pm10_0  lnd_7318c  lnd_7318u  bat_voltage  \n",
       "0        NaN        NaN        NaN       32.0       29.0          NaN  \n",
       "1        NaN        NaN        NaN        NaN        NaN          NaN  \n",
       "2         11         14         14        NaN        NaN          NaN  \n",
       "3        NaN        NaN        NaN        NaN        NaN        3.795  \n",
       "4        NaN        NaN        NaN        NaN        NaN          NaN  "
      ]
     },
     "execution_count": 1084,
     "metadata": {},
     "output_type": "execute_result"
    }
   ],
   "source": [
    "df[0:5]"
   ]
  },
  {
   "cell_type": "markdown",
   "metadata": {},
   "source": [
    "Based on above table for (`device`, `when_captured`) key, let's see what these multiple values for each time stamp correspond to. Sometimes there are negative RH, sometimes 0.0 PM (which measn very clean air)"
   ]
  },
  {
   "cell_type": "code",
   "execution_count": 1085,
   "metadata": {},
   "outputs": [],
   "source": [
    "def findBadData(df):\n",
    "    \n",
    "    temp_df = df.groupby(['device_urn', 'device_sn','when_captured']).size().to_frame('size').\\\n",
    "                                    reset_index().sort_values('size', ascending=False)\n",
    "    print(\"bad device data counts: \")\n",
    "    print(temp_df[(temp_df['size']>1)])\n",
    "    \n",
    "    print(\"all bad device list: \")\n",
    "    # Devices that have misbehaved at some point - more than one data values per time stamp\n",
    "    print(np.unique(temp_df[temp_df['size']>1]['device_sn'].values)) # devices that have misbehaved"
   ]
  },
  {
   "cell_type": "code",
   "execution_count": 1086,
   "metadata": {},
   "outputs": [
    {
     "name": "stdout",
     "output_type": "stream",
     "text": [
      "bad device data counts: \n",
      "                device_urn         device_sn             when_captured  size\n",
      "5634    safecast:114699387  Solarcast #30023 2017-09-11 08:30:04+00:00     5\n",
      "5639    safecast:114699387  Solarcast #30023 2017-09-11 14:45:03+00:00     5\n",
      "5635    safecast:114699387  Solarcast #30023 2017-09-11 09:45:04+00:00     5\n",
      "5636    safecast:114699387  Solarcast #30023 2017-09-11 11:00:03+00:00     5\n",
      "5637    safecast:114699387  Solarcast #30023 2017-09-11 12:15:03+00:00     5\n",
      "5638    safecast:114699387  Solarcast #30023 2017-09-11 13:30:03+00:00     5\n",
      "5633    safecast:114699387  Solarcast #30023 2017-09-11 06:00:04+00:00     5\n",
      "5641    safecast:114699387  Solarcast #30023 2017-09-11 16:00:03+00:00     3\n",
      "31971  safecast:3714913954  Solarcast #30027 2017-09-29 09:22:50+00:00     2\n",
      "32368  safecast:3714913954  Solarcast #30027 2017-09-30 13:52:50+00:00     2\n",
      "32417  safecast:3714913954  Solarcast #30027 2017-09-30 17:22:50+00:00     2\n",
      "31495  safecast:3714913954  Solarcast #30027 2017-09-28 10:47:38+00:00     2\n",
      "32382  safecast:3714913954  Solarcast #30027 2017-09-30 14:52:50+00:00     2\n",
      "28608  safecast:3714913954  Solarcast #30027 2017-09-21 09:25:23+00:00     2\n",
      "28780  safecast:3714913954  Solarcast #30027 2017-09-21 16:05:38+00:00     2\n",
      "32187  safecast:3714913954  Solarcast #30027 2017-09-30 00:52:50+00:00     2\n",
      "all bad device list: \n",
      "['Solarcast #30023' 'Solarcast #30027']\n"
     ]
    }
   ],
   "source": [
    "findBadData(df)"
   ]
  },
  {
   "cell_type": "markdown",
   "metadata": {},
   "source": [
    "#### Add a column for the year"
   ]
  },
  {
   "cell_type": "code",
   "execution_count": 1087,
   "metadata": {},
   "outputs": [],
   "source": [
    "df['year'] = pd.DatetimeIndex(df['when_captured']).year"
   ]
  },
  {
   "cell_type": "markdown",
   "metadata": {},
   "source": [
    "Enlist some anomalies with same key (when, devSN) but different data fields"
   ]
  },
  {
   "cell_type": "markdown",
   "metadata": {},
   "source": [
    "## Data Cleansing based on [Protocol](https://github.com/DataKind-SF/safecast/blob/master/Solarcast_data_cleansing.md)"
   ]
  },
  {
   "cell_type": "code",
   "execution_count": 1088,
   "metadata": {},
   "outputs": [
    {
     "name": "stdout",
     "output_type": "stream",
     "text": [
      "2816\n"
     ]
    },
    {
     "data": {
      "text/plain": [
       "(61839, 16)"
      ]
     },
     "execution_count": 1088,
     "metadata": {},
     "output_type": "execute_result"
    }
   ],
   "source": [
    "print(df['when_captured'].isna().sum())\n",
    "df = df[df['when_captured'].notna()]\n",
    "\n",
    "df.shape"
   ]
  },
  {
   "cell_type": "code",
   "execution_count": 1089,
   "metadata": {},
   "outputs": [
    {
     "name": "stdout",
     "output_type": "stream",
     "text": [
      "61839\n"
     ]
    },
    {
     "data": {
      "text/plain": [
       "(61839, 16)"
      ]
     },
     "execution_count": 1089,
     "metadata": {},
     "output_type": "execute_result"
    }
   ],
   "source": [
    "boolean_condition = df['when_captured'] >  pd.to_datetime(2000/1/19, infer_datetime_format=True).tz_localize('UTC')\n",
    "print(boolean_condition.sum())\n",
    "df = df[df['when_captured'] >  pd.to_datetime(2000/1/19, infer_datetime_format=True).tz_localize('UTC')]\n",
    "\n",
    "df.shape"
   ]
  },
  {
   "cell_type": "code",
   "execution_count": 1090,
   "metadata": {},
   "outputs": [
    {
     "name": "stdout",
     "output_type": "stream",
     "text": [
      "9102\n"
     ]
    },
    {
     "data": {
      "text/plain": [
       "(61839, 16)"
      ]
     },
     "execution_count": 1090,
     "metadata": {},
     "output_type": "execute_result"
    }
   ],
   "source": [
    "boolean_condition = (df['env_humid']<0) | (df['env_humid']>100)\n",
    "print(boolean_condition.sum())\n",
    "column_name = 'env_humid'\n",
    "new_value = np.nan\n",
    "df.loc[boolean_condition, column_name] = new_value\n",
    "\n",
    "df.shape"
   ]
  },
  {
   "cell_type": "code",
   "execution_count": 1091,
   "metadata": {},
   "outputs": [
    {
     "name": "stdout",
     "output_type": "stream",
     "text": [
      "to remove:  0\n"
     ]
    },
    {
     "data": {
      "text/plain": [
       "(61839, 16)"
      ]
     },
     "execution_count": 1091,
     "metadata": {},
     "output_type": "execute_result"
    }
   ],
   "source": [
    "boolean_condition = abs(df['when_captured'].subtract(df['service_uploaded'])).astype('timedelta64[D]') < 7\n",
    "boolean_condition.shape\n",
    "print(\"to remove: \",df.shape[0] - (boolean_condition).sum())\n",
    "df = df[boolean_condition]\n",
    "\n",
    "df.shape"
   ]
  },
  {
   "cell_type": "markdown",
   "metadata": {},
   "source": [
    "Dont need the following column ANY MORE"
   ]
  },
  {
   "cell_type": "code",
   "execution_count": 1092,
   "metadata": {},
   "outputs": [
    {
     "data": {
      "text/plain": [
       "(61839, 15)"
      ]
     },
     "execution_count": 1092,
     "metadata": {},
     "output_type": "execute_result"
    }
   ],
   "source": [
    "df.drop('service_uploaded', axis=1, inplace=True)\n",
    "df.shape"
   ]
  },
  {
   "cell_type": "markdown",
   "metadata": {},
   "source": [
    "Drop Duplicates"
   ]
  },
  {
   "cell_type": "code",
   "execution_count": 1093,
   "metadata": {},
   "outputs": [
    {
     "name": "stdout",
     "output_type": "stream",
     "text": [
      "8\n"
     ]
    }
   ],
   "source": [
    "incoming = df.shape[0]\n",
    "df.drop_duplicates(subset=df.columns[0:df.shape[1]], inplace=True, keep='first') # args: subset=[df.columns[0:df.shape[1]]], keep = 'first'\n",
    "print(-df.shape[0]+incoming)"
   ]
  },
  {
   "cell_type": "markdown",
   "metadata": {},
   "source": [
    "### Filtering bad row records"
   ]
  },
  {
   "cell_type": "code",
   "execution_count": 1094,
   "metadata": {},
   "outputs": [
    {
     "name": "stdout",
     "output_type": "stream",
     "text": [
      "61801\n"
     ]
    }
   ],
   "source": [
    "temp_df = df.groupby(['device_sn','when_captured']).agg(['count','nunique'])\n",
    "# temp_df.info()\n",
    "num_groups = temp_df.shape[0]\n",
    "print(num_groups)"
   ]
  },
  {
   "cell_type": "markdown",
   "metadata": {},
   "source": [
    "Merge Counts and Count-Distincts to check for duplicative records and multiplicities"
   ]
  },
  {
   "cell_type": "code",
   "execution_count": 1095,
   "metadata": {},
   "outputs": [
    {
     "name": "stdout",
     "output_type": "stream",
     "text": [
      "(61801, 3) (61801, 3)\n"
     ]
    },
    {
     "data": {
      "text/html": [
       "<div>\n",
       "<style scoped>\n",
       "    .dataframe tbody tr th:only-of-type {\n",
       "        vertical-align: middle;\n",
       "    }\n",
       "\n",
       "    .dataframe tbody tr th {\n",
       "        vertical-align: top;\n",
       "    }\n",
       "\n",
       "    .dataframe thead th {\n",
       "        text-align: right;\n",
       "    }\n",
       "</style>\n",
       "<table border=\"1\" class=\"dataframe\">\n",
       "  <thead>\n",
       "    <tr style=\"text-align: right;\">\n",
       "      <th></th>\n",
       "      <th>device_sn</th>\n",
       "      <th>when_captured</th>\n",
       "      <th>COUNTS</th>\n",
       "      <th>DISTINCTS</th>\n",
       "    </tr>\n",
       "  </thead>\n",
       "  <tbody>\n",
       "    <tr>\n",
       "      <th>0</th>\n",
       "      <td>Solarcast #30001</td>\n",
       "      <td>2017-09-07 19:58:47+00:00</td>\n",
       "      <td>1</td>\n",
       "      <td>1</td>\n",
       "    </tr>\n",
       "    <tr>\n",
       "      <th>1</th>\n",
       "      <td>Solarcast #30001</td>\n",
       "      <td>2017-09-07 19:58:59+00:00</td>\n",
       "      <td>1</td>\n",
       "      <td>1</td>\n",
       "    </tr>\n",
       "    <tr>\n",
       "      <th>2</th>\n",
       "      <td>Solarcast #30001</td>\n",
       "      <td>2017-09-07 19:59:14+00:00</td>\n",
       "      <td>1</td>\n",
       "      <td>1</td>\n",
       "    </tr>\n",
       "    <tr>\n",
       "      <th>3</th>\n",
       "      <td>Solarcast #30001</td>\n",
       "      <td>2017-09-07 19:59:29+00:00</td>\n",
       "      <td>1</td>\n",
       "      <td>1</td>\n",
       "    </tr>\n",
       "    <tr>\n",
       "      <th>4</th>\n",
       "      <td>Solarcast #30001</td>\n",
       "      <td>2017-09-07 19:59:44+00:00</td>\n",
       "      <td>1</td>\n",
       "      <td>1</td>\n",
       "    </tr>\n",
       "    <tr>\n",
       "      <th>...</th>\n",
       "      <td>...</td>\n",
       "      <td>...</td>\n",
       "      <td>...</td>\n",
       "      <td>...</td>\n",
       "    </tr>\n",
       "    <tr>\n",
       "      <th>61796</th>\n",
       "      <td>Solarcast #30030</td>\n",
       "      <td>2017-09-30 23:17:09+00:00</td>\n",
       "      <td>1</td>\n",
       "      <td>1</td>\n",
       "    </tr>\n",
       "    <tr>\n",
       "      <th>61797</th>\n",
       "      <td>Solarcast #30030</td>\n",
       "      <td>2017-09-30 23:32:09+00:00</td>\n",
       "      <td>1</td>\n",
       "      <td>1</td>\n",
       "    </tr>\n",
       "    <tr>\n",
       "      <th>61798</th>\n",
       "      <td>Solarcast #30030</td>\n",
       "      <td>2017-09-30 23:32:33+00:00</td>\n",
       "      <td>1</td>\n",
       "      <td>1</td>\n",
       "    </tr>\n",
       "    <tr>\n",
       "      <th>61799</th>\n",
       "      <td>Solarcast #30030</td>\n",
       "      <td>2017-09-30 23:32:48+00:00</td>\n",
       "      <td>1</td>\n",
       "      <td>1</td>\n",
       "    </tr>\n",
       "    <tr>\n",
       "      <th>61800</th>\n",
       "      <td>Solarcast #30030</td>\n",
       "      <td>2017-09-30 23:47:09+00:00</td>\n",
       "      <td>1</td>\n",
       "      <td>1</td>\n",
       "    </tr>\n",
       "  </tbody>\n",
       "</table>\n",
       "<p>61801 rows × 4 columns</p>\n",
       "</div>"
      ],
      "text/plain": [
       "              device_sn             when_captured  COUNTS  DISTINCTS\n",
       "0      Solarcast #30001 2017-09-07 19:58:47+00:00       1          1\n",
       "1      Solarcast #30001 2017-09-07 19:58:59+00:00       1          1\n",
       "2      Solarcast #30001 2017-09-07 19:59:14+00:00       1          1\n",
       "3      Solarcast #30001 2017-09-07 19:59:29+00:00       1          1\n",
       "4      Solarcast #30001 2017-09-07 19:59:44+00:00       1          1\n",
       "...                 ...                       ...     ...        ...\n",
       "61796  Solarcast #30030 2017-09-30 23:17:09+00:00       1          1\n",
       "61797  Solarcast #30030 2017-09-30 23:32:09+00:00       1          1\n",
       "61798  Solarcast #30030 2017-09-30 23:32:33+00:00       1          1\n",
       "61799  Solarcast #30030 2017-09-30 23:32:48+00:00       1          1\n",
       "61800  Solarcast #30030 2017-09-30 23:47:09+00:00       1          1\n",
       "\n",
       "[61801 rows x 4 columns]"
      ]
     },
     "execution_count": 1095,
     "metadata": {},
     "output_type": "execute_result"
    }
   ],
   "source": [
    "even = list(range(0,26,2))\n",
    "odd = list(range(1,26,2))\n",
    "tmp_df1 = temp_df.iloc[:,even].max(axis=1).to_frame('COUNTS').reset_index()\n",
    "tmp_df2 = temp_df.iloc[:,odd].max(axis=1).to_frame('DISTINCTS').reset_index()\n",
    "print(tmp_df1.shape, tmp_df2.shape)\n",
    "merged = pd.merge(tmp_df1, tmp_df2, left_on = ['device_sn', 'when_captured'], right_on=['device_sn', 'when_captured'])\n",
    "merged"
   ]
  },
  {
   "cell_type": "markdown",
   "metadata": {},
   "source": [
    "#### Calculating hits: Impose mutually exclusive conditions for filtering"
   ]
  },
  {
   "cell_type": "markdown",
   "metadata": {},
   "source": [
    "Actionable: Records of useless data with all NaNs"
   ]
  },
  {
   "cell_type": "code",
   "execution_count": 1096,
   "metadata": {},
   "outputs": [
    {
     "name": "stdout",
     "output_type": "stream",
     "text": [
      "0\n"
     ]
    },
    {
     "data": {
      "text/plain": [
       "(0, 2)"
      ]
     },
     "execution_count": 1096,
     "metadata": {},
     "output_type": "execute_result"
    }
   ],
   "source": [
    "bool1 = (merged.COUNTS >1) & (merged.DISTINCTS==0)\n",
    "sum1 = bool1.sum()\n",
    "print(sum1)\n",
    "toDiscard1 = merged.loc[:,['device_sn', 'when_captured']][bool1]\n",
    "toDiscard1.shape"
   ]
  },
  {
   "cell_type": "markdown",
   "metadata": {},
   "source": [
    "Actionable: Records that are a mix of duplicates and non-duplicate rows for a given (`device_sn`, `when_captured`) [must be all discarded]"
   ]
  },
  {
   "cell_type": "code",
   "execution_count": 1097,
   "metadata": {},
   "outputs": [
    {
     "name": "stdout",
     "output_type": "stream",
     "text": [
      "8\n"
     ]
    },
    {
     "data": {
      "text/plain": [
       "(8, 2)"
      ]
     },
     "execution_count": 1097,
     "metadata": {},
     "output_type": "execute_result"
    }
   ],
   "source": [
    "bool3 = (merged.COUNTS >1) & (merged.DISTINCTS>1)\n",
    "sum3 = bool3.sum()\n",
    "print(sum3)\n",
    "toDiscard3 = merged.loc[:,['device_sn', 'when_captured']][bool3]\n",
    "toDiscard3.shape"
   ]
  },
  {
   "cell_type": "markdown",
   "metadata": {},
   "source": [
    "NOT Actionable as duplicates were dropped: Records where all rows are purely duplicates [preserve only 1 later]"
   ]
  },
  {
   "cell_type": "code",
   "execution_count": 1098,
   "metadata": {},
   "outputs": [
    {
     "name": "stdout",
     "output_type": "stream",
     "text": [
      "0\n",
      "get rid of :  0\n"
     ]
    }
   ],
   "source": [
    "bool2 = (merged.COUNTS >1) & (merged.DISTINCTS==1)\n",
    "sum2 = bool2.sum()\n",
    "print(sum2)\n",
    "print(\"get rid of : \" ,merged.COUNTS[bool2].sum() - merged.DISTINCTS[bool2].sum())"
   ]
  },
  {
   "cell_type": "markdown",
   "metadata": {},
   "source": [
    "Records that are good"
   ]
  },
  {
   "cell_type": "code",
   "execution_count": 1099,
   "metadata": {},
   "outputs": [
    {
     "name": "stdout",
     "output_type": "stream",
     "text": [
      "61793\n"
     ]
    }
   ],
   "source": [
    "bool4 = (merged.COUNTS ==1) & (merged.DISTINCTS==1)\n",
    "sum4 = bool4.sum()\n",
    "print(sum4)"
   ]
  },
  {
   "cell_type": "code",
   "execution_count": 1100,
   "metadata": {},
   "outputs": [],
   "source": [
    "#ensure you have all records covered by 1 of the 4 conditions\n",
    "assert(num_groups == sum1+sum2+sum3+sum4)"
   ]
  },
  {
   "cell_type": "markdown",
   "metadata": {},
   "source": [
    "#### Filter now from the main dataframe\n"
   ]
  },
  {
   "cell_type": "code",
   "execution_count": 1101,
   "metadata": {},
   "outputs": [
    {
     "name": "stdout",
     "output_type": "stream",
     "text": [
      "(61831, 15) (8, 3)\n"
     ]
    }
   ],
   "source": [
    "discard = pd.concat([toDiscard1, toDiscard3], ignore_index=True)\n",
    "discard['KEY_DevSN_WhenCapt'] = list(zip(discard.device_sn, discard.when_captured))\n",
    "print(df.shape, discard.shape)"
   ]
  },
  {
   "cell_type": "code",
   "execution_count": 1102,
   "metadata": {},
   "outputs": [
    {
     "data": {
      "text/plain": [
       "(61831, 16)"
      ]
     },
     "execution_count": 1102,
     "metadata": {},
     "output_type": "execute_result"
    }
   ],
   "source": [
    "df['KEY_DevSN_WhenCapt'] = list(zip(df.device_sn, df.when_captured))\n",
    "df.shape"
   ]
  },
  {
   "cell_type": "code",
   "execution_count": 1103,
   "metadata": {},
   "outputs": [
    {
     "name": "stdout",
     "output_type": "stream",
     "text": [
      "these many rows to discard:  38\n"
     ]
    }
   ],
   "source": [
    "rows_to_discard = df['KEY_DevSN_WhenCapt'].isin(discard['KEY_DevSN_WhenCapt'])\n",
    "print(\"these many rows to discard: \", rows_to_discard.sum())"
   ]
  },
  {
   "cell_type": "code",
   "execution_count": 1104,
   "metadata": {},
   "outputs": [
    {
     "name": "stdout",
     "output_type": "stream",
     "text": [
      "38\n"
     ]
    }
   ],
   "source": [
    "incoming = df.shape[0]\n",
    "df = df[~rows_to_discard]\n",
    "print(incoming - df.shape[0])"
   ]
  },
  {
   "cell_type": "markdown",
   "metadata": {},
   "source": [
    "### Now check to make sure no garbage data is left"
   ]
  },
  {
   "cell_type": "code",
   "execution_count": 1105,
   "metadata": {},
   "outputs": [
    {
     "name": "stdout",
     "output_type": "stream",
     "text": [
      "bad device data counts: \n",
      "Empty DataFrame\n",
      "Columns: [device_urn, device_sn, when_captured, size]\n",
      "Index: []\n",
      "all bad device list: \n",
      "[]\n"
     ]
    }
   ],
   "source": [
    "findBadData(df)"
   ]
  },
  {
   "cell_type": "code",
   "execution_count": 1106,
   "metadata": {},
   "outputs": [
    {
     "name": "stdout",
     "output_type": "stream",
     "text": [
      "<class 'pandas.core.frame.DataFrame'>\n",
      "Int64Index: 8 entries, 40839 to 40847\n",
      "Data columns (total 2 columns):\n",
      " #   Column         Non-Null Count  Dtype              \n",
      "---  ------         --------------  -----              \n",
      " 0   device_sn      8 non-null      object             \n",
      " 1   when_captured  8 non-null      datetime64[ns, UTC]\n",
      "dtypes: datetime64[ns, UTC](1), object(1)\n",
      "memory usage: 192.0+ bytes\n"
     ]
    }
   ],
   "source": [
    "toDiscard3.info()"
   ]
  },
  {
   "cell_type": "code",
   "execution_count": 1107,
   "metadata": {},
   "outputs": [],
   "source": [
    "toDiscard3.to_csv(str(dt) + '-01_anomalies.csv')"
   ]
  }
 ],
 "metadata": {
  "kernelspec": {
   "display_name": "Python 3",
   "language": "python",
   "name": "python3"
  },
  "language_info": {
   "codemirror_mode": {
    "name": "ipython",
    "version": 3
   },
   "file_extension": ".py",
   "mimetype": "text/x-python",
   "name": "python",
   "nbconvert_exporter": "python",
   "pygments_lexer": "ipython3",
   "version": "3.7.6"
  }
 },
 "nbformat": 4,
 "nbformat_minor": 4
}
